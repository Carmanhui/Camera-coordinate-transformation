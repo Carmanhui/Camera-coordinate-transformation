{
 "cells": [
  {
   "cell_type": "code",
   "execution_count": 10,
   "metadata": {},
   "outputs": [],
   "source": [
    "import math\n",
    "import numpy as np\n",
    "class Camera_coordinate_transformation():\n",
    "    def __init__(self,fx,fy,u0,v0):\n",
    "        self.fx = fx\n",
    "        self.fy = fy\n",
    "        self.u0 = u0\n",
    "        self.v0 = v0\n",
    "        \n",
    "    def pixel_to_camera(self,u,v,Z):\n",
    "        #将像素坐标转换为相机坐标\n",
    "        X = (u-self.u0)*abs(Z)/self.fx\n",
    "        Y = (v-self.v0)*abs(Z)/self.fy\n",
    "        return X,Y,Z\n",
    "\n",
    "    def camera_to_pixel(self,X,Y,Z):\n",
    "        #将相机坐标转换为像素坐标\n",
    "        K = np.array([[self.fx,0,u0],[0,self.fy,v0],[0,0,1]])\n",
    "        camera = np.array([[X],[Y],[Z]])\n",
    "        pixel = np.dot(K,camera)/Z\n",
    "        pixel = pixel.T\n",
    "        u,v = pixel[0][0],pixel[0][1]\n",
    "        return u,v\n",
    "\n",
    "    def angle_to_arc(self,angle):\n",
    "        import math\n",
    "        pi = math.pi\n",
    "        arc = angle/180*pi\n",
    "        return arc\n",
    "\n",
    "    def world_to_camera(self,theta_x,theta_y,theta_z,T,Ow):\n",
    "        #将世界坐标转换为相机坐标\n",
    "        Rx = np.array([[1,0,0],\n",
    "                       [0,math.cos(angle_to_arc(theta_x)),math.sin(angle_to_arc(theta_x))],\n",
    "                       [0,-math.sin(angle_to_arc(theta_x)),math.cos(angle_to_arc(theta_x))]])\n",
    "        Ry = np.array([[math.cos(angle_to_arc(theta_y)),0,-math.sin(angle_to_arc(theta_y))],\n",
    "                       [0,1,0],\n",
    "                       [math.sin(angle_to_arc(theta_y)),0,math.cos(angle_to_arc(theta_y))]])\n",
    "        Rz = np.array([[math.cos(angle_to_arc(theta_z)),math.sin(angle_to_arc(theta_z)),0],\n",
    "                       [-math.sin(angle_to_arc(theta_z)),math.cos(angle_to_arc(theta_z)),0],\n",
    "                       [0,0,1]])\n",
    "        R= np.dot(np.dot(Rx,Ry),Rz)\n",
    "        print(R)\n",
    "        Oc = np.dot(R,Ow) + T\n",
    "        return Oc.T\n",
    "\n",
    "    def camera_to_world(self,theta_x,theta_y,theta_z,T,Oc):\n",
    "        #将相机坐标转换为世界坐标\n",
    "        Rx = np.array([[1,0,0],\n",
    "                       [0,math.cos(self.angle_to_arc(theta_x)),math.sin(self.angle_to_arc(theta_x))],\n",
    "                       [0,-math.sin(self.angle_to_arc(theta_x)),math.cos(self.angle_to_arc(theta_x))]])\n",
    "        Ry = np.array([[math.cos(self.angle_to_arc(theta_y)),0,-math.sin(self.angle_to_arc(theta_y))],\n",
    "                       [0,1,0],\n",
    "                       [math.sin(self.angle_to_arc(theta_y)),0,math.cos(self.angle_to_arc(theta_y))]])\n",
    "        Rz = np.array([[math.cos(self.angle_to_arc(theta_z)),math.sin(self.angle_to_arc(theta_z)),0],\n",
    "                       [-math.sin(self.angle_to_arc(theta_z)),math.cos(self.angle_to_arc(theta_z)),0],\n",
    "                       [0,0,1]])\n",
    "\n",
    "        R= np.dot(np.dot(Rx,Ry),Rz)\n",
    "        R_N = np.linalg.inv(R)\n",
    "        Ow = np.dot(R_N,Oc) - T\n",
    "\n",
    "        return Ow\n",
    "\n",
    "    def text_save(self,filename, data):#filename为写入CSV文件的路径，data为要写入数据列表.\n",
    "        file = open(filename,'w')\n",
    "        for i in range(len(data)):\n",
    "            s = str(data[i]).replace('[','').replace(']','')#去除[],这两行按数据不同，可以选择\n",
    "            s = s.replace(\"'\",'').replace(',','') +'  '   #去除单引号，逗号，每行末尾追加换行符\n",
    "            file.write(s)\n",
    "        file.close()\n",
    "        print(\"保存文件成功\")"
   ]
  },
  {
   "cell_type": "code",
   "execution_count": 12,
   "metadata": {},
   "outputs": [
    {
     "name": "stdout",
     "output_type": "stream",
     "text": [
      "138.5599719129325 94.55970750298606 420\n",
      "[-794.5597075  -138.55997191 -620.        ]\n",
      "保存文件成功\n"
     ]
    }
   ],
   "source": [
    "camera = Camera_coordinate_transformation(657.3844,658.0580,320.6258,240.8434)\n",
    "X,Y,Z= camera.pixel_to_camera(537.5,389.0,420)\n",
    "print(X,Y,Z)\n",
    "\n",
    "T = np.array([[700],[0],[200]])\n",
    "Oc = np.array([[X],[Y],[Z]])\n",
    "Ow = camera.camera_to_world(180,0,-90,T,Oc)#绕x180，绕z90度\n",
    "print(Ow.T[0])\n",
    "camera.text_save('./data.txt',Ow.T[0])"
   ]
  },
  {
   "cell_type": "code",
   "execution_count": null,
   "metadata": {},
   "outputs": [],
   "source": []
  }
 ],
 "metadata": {
  "kernelspec": {
   "display_name": "Python 3",
   "language": "python",
   "name": "python3"
  },
  "language_info": {
   "codemirror_mode": {
    "name": "ipython",
    "version": 3
   },
   "file_extension": ".py",
   "mimetype": "text/x-python",
   "name": "python",
   "nbconvert_exporter": "python",
   "pygments_lexer": "ipython3",
   "version": "3.6.5"
  }
 },
 "nbformat": 4,
 "nbformat_minor": 2
}
